{
 "cells": [
  {
   "cell_type": "markdown",
   "metadata": {},
   "source": [
    "# Data Preprocessing"
   ]
  },
  {
   "cell_type": "code",
   "execution_count": 102,
   "metadata": {},
   "outputs": [],
   "source": [
    "# Imports\n",
    "import pandas as pd\n",
    "import seaborn as sns\n",
    "import matplotlib.pyplot as plt\n",
    "import numpy as np"
   ]
  },
  {
   "cell_type": "code",
   "execution_count": 103,
   "metadata": {},
   "outputs": [
    {
     "data": {
      "text/html": [
       "<div>\n",
       "<style scoped>\n",
       "    .dataframe tbody tr th:only-of-type {\n",
       "        vertical-align: middle;\n",
       "    }\n",
       "\n",
       "    .dataframe tbody tr th {\n",
       "        vertical-align: top;\n",
       "    }\n",
       "\n",
       "    .dataframe thead th {\n",
       "        text-align: right;\n",
       "    }\n",
       "</style>\n",
       "<table border=\"1\" class=\"dataframe\">\n",
       "  <thead>\n",
       "    <tr style=\"text-align: right;\">\n",
       "      <th></th>\n",
       "      <th>GeneID</th>\n",
       "      <th>GeneName</th>\n",
       "      <th>Description</th>\n",
       "      <th>Chromosome</th>\n",
       "      <th>Strand</th>\n",
       "      <th>logFC_HL004_vs_Vehicle</th>\n",
       "      <th>PValue_HL004_vs_Vehicle</th>\n",
       "      <th>FDR_HL004_vs_Vehicle</th>\n",
       "    </tr>\n",
       "  </thead>\n",
       "  <tbody>\n",
       "    <tr>\n",
       "      <th>0</th>\n",
       "      <td>ENSMUSG00000018417</td>\n",
       "      <td>Myo1b</td>\n",
       "      <td>myosin IB [Source:MGI Symbol;Acc:MGI:107752]</td>\n",
       "      <td>chr1</td>\n",
       "      <td>-</td>\n",
       "      <td>0.846897</td>\n",
       "      <td>1.846119e-36</td>\n",
       "      <td>1.194131e-32</td>\n",
       "    </tr>\n",
       "    <tr>\n",
       "      <th>1</th>\n",
       "      <td>ENSMUSG00000037016</td>\n",
       "      <td>Frem2</td>\n",
       "      <td>Fras1 related extracellular matrix protein 2 [...</td>\n",
       "      <td>chr3</td>\n",
       "      <td>-</td>\n",
       "      <td>1.941646</td>\n",
       "      <td>1.125564e-48</td>\n",
       "      <td>2.184157e-44</td>\n",
       "    </tr>\n",
       "    <tr>\n",
       "      <th>2</th>\n",
       "      <td>ENSMUSG00000053025</td>\n",
       "      <td>Sv2b</td>\n",
       "      <td>synaptic vesicle glycoprotein 2 b [Source:MGI ...</td>\n",
       "      <td>chr7</td>\n",
       "      <td>-</td>\n",
       "      <td>-0.379560</td>\n",
       "      <td>8.743052e-07</td>\n",
       "      <td>5.110208e-05</td>\n",
       "    </tr>\n",
       "    <tr>\n",
       "      <th>3</th>\n",
       "      <td>ENSMUSG00000048978</td>\n",
       "      <td>Nrsn1</td>\n",
       "      <td>neurensin 1 [Source:MGI Symbol;Acc:MGI:894662]</td>\n",
       "      <td>chr13</td>\n",
       "      <td>-</td>\n",
       "      <td>0.581307</td>\n",
       "      <td>1.552137e-15</td>\n",
       "      <td>4.987066e-13</td>\n",
       "    </tr>\n",
       "    <tr>\n",
       "      <th>4</th>\n",
       "      <td>ENSMUSG00000039706</td>\n",
       "      <td>Ldb2</td>\n",
       "      <td>LIM domain binding 2 [Source:MGI Symbol;Acc:MG...</td>\n",
       "      <td>chr5</td>\n",
       "      <td>-</td>\n",
       "      <td>1.120849</td>\n",
       "      <td>1.520141e-45</td>\n",
       "      <td>1.474917e-41</td>\n",
       "    </tr>\n",
       "  </tbody>\n",
       "</table>\n",
       "</div>"
      ],
      "text/plain": [
       "               GeneID GeneName  \\\n",
       "0  ENSMUSG00000018417    Myo1b   \n",
       "1  ENSMUSG00000037016    Frem2   \n",
       "2  ENSMUSG00000053025     Sv2b   \n",
       "3  ENSMUSG00000048978    Nrsn1   \n",
       "4  ENSMUSG00000039706     Ldb2   \n",
       "\n",
       "                                         Description Chromosome Strand  \\\n",
       "0       myosin IB [Source:MGI Symbol;Acc:MGI:107752]       chr1      -   \n",
       "1  Fras1 related extracellular matrix protein 2 [...       chr3      -   \n",
       "2  synaptic vesicle glycoprotein 2 b [Source:MGI ...       chr7      -   \n",
       "3     neurensin 1 [Source:MGI Symbol;Acc:MGI:894662]      chr13      -   \n",
       "4  LIM domain binding 2 [Source:MGI Symbol;Acc:MG...       chr5      -   \n",
       "\n",
       "   logFC_HL004_vs_Vehicle  PValue_HL004_vs_Vehicle  FDR_HL004_vs_Vehicle  \n",
       "0                0.846897             1.846119e-36          1.194131e-32  \n",
       "1                1.941646             1.125564e-48          2.184157e-44  \n",
       "2               -0.379560             8.743052e-07          5.110208e-05  \n",
       "3                0.581307             1.552137e-15          4.987066e-13  \n",
       "4                1.120849             1.520141e-45          1.474917e-41  "
      ]
     },
     "execution_count": 103,
     "metadata": {},
     "output_type": "execute_result"
    }
   ],
   "source": [
    "df = pd.read_excel(\"Mouse In Vitro RNA seq_Complete Gene List extract HL004.xlsx\")\n",
    "df.head()"
   ]
  },
  {
   "cell_type": "code",
   "execution_count": 104,
   "metadata": {},
   "outputs": [
    {
     "name": "stdout",
     "output_type": "stream",
     "text": [
      "Number of missing values: logFC_HL004_vs_Vehicle     0\n",
      "PValue_HL004_vs_Vehicle    0\n",
      "FDR_HL004_vs_Vehicle       0\n",
      "dtype: int64\n"
     ]
    }
   ],
   "source": [
    "# Check for missing values in logFC, PValue, FDR columns\n",
    "num_missing = df[['logFC_HL004_vs_Vehicle', 'PValue_HL004_vs_Vehicle', 'FDR_HL004_vs_Vehicle']].isnull().sum()\n",
    "print(\"Number of missing values:\", num_missing)"
   ]
  },
  {
   "cell_type": "code",
   "execution_count": 105,
   "metadata": {},
   "outputs": [
    {
     "data": {
      "text/html": [
       "<div>\n",
       "<style scoped>\n",
       "    .dataframe tbody tr th:only-of-type {\n",
       "        vertical-align: middle;\n",
       "    }\n",
       "\n",
       "    .dataframe tbody tr th {\n",
       "        vertical-align: top;\n",
       "    }\n",
       "\n",
       "    .dataframe thead th {\n",
       "        text-align: right;\n",
       "    }\n",
       "</style>\n",
       "<table border=\"1\" class=\"dataframe\">\n",
       "  <thead>\n",
       "    <tr style=\"text-align: right;\">\n",
       "      <th></th>\n",
       "      <th>logFC_HL004_vs_Vehicle</th>\n",
       "      <th>PValue_HL004_vs_Vehicle</th>\n",
       "      <th>FDR_HL004_vs_Vehicle</th>\n",
       "    </tr>\n",
       "  </thead>\n",
       "  <tbody>\n",
       "    <tr>\n",
       "      <th>count</th>\n",
       "      <td>19405.000000</td>\n",
       "      <td>1.940500e+04</td>\n",
       "      <td>1.940500e+04</td>\n",
       "    </tr>\n",
       "    <tr>\n",
       "      <th>mean</th>\n",
       "      <td>0.055923</td>\n",
       "      <td>3.595171e-01</td>\n",
       "      <td>5.335406e-01</td>\n",
       "    </tr>\n",
       "    <tr>\n",
       "      <th>std</th>\n",
       "      <td>0.342876</td>\n",
       "      <td>3.138413e-01</td>\n",
       "      <td>3.230819e-01</td>\n",
       "    </tr>\n",
       "    <tr>\n",
       "      <th>min</th>\n",
       "      <td>-2.207688</td>\n",
       "      <td>1.125564e-48</td>\n",
       "      <td>2.184157e-44</td>\n",
       "    </tr>\n",
       "    <tr>\n",
       "      <th>25%</th>\n",
       "      <td>-0.128645</td>\n",
       "      <td>6.151616e-02</td>\n",
       "      <td>2.460266e-01</td>\n",
       "    </tr>\n",
       "    <tr>\n",
       "      <th>50%</th>\n",
       "      <td>0.001548</td>\n",
       "      <td>2.878134e-01</td>\n",
       "      <td>5.754540e-01</td>\n",
       "    </tr>\n",
       "    <tr>\n",
       "      <th>75%</th>\n",
       "      <td>0.187311</td>\n",
       "      <td>6.242161e-01</td>\n",
       "      <td>8.322738e-01</td>\n",
       "    </tr>\n",
       "    <tr>\n",
       "      <th>max</th>\n",
       "      <td>3.857408</td>\n",
       "      <td>9.999863e-01</td>\n",
       "      <td>9.999863e-01</td>\n",
       "    </tr>\n",
       "  </tbody>\n",
       "</table>\n",
       "</div>"
      ],
      "text/plain": [
       "       logFC_HL004_vs_Vehicle  PValue_HL004_vs_Vehicle  FDR_HL004_vs_Vehicle\n",
       "count            19405.000000             1.940500e+04          1.940500e+04\n",
       "mean                 0.055923             3.595171e-01          5.335406e-01\n",
       "std                  0.342876             3.138413e-01          3.230819e-01\n",
       "min                 -2.207688             1.125564e-48          2.184157e-44\n",
       "25%                 -0.128645             6.151616e-02          2.460266e-01\n",
       "50%                  0.001548             2.878134e-01          5.754540e-01\n",
       "75%                  0.187311             6.242161e-01          8.322738e-01\n",
       "max                  3.857408             9.999863e-01          9.999863e-01"
      ]
     },
     "execution_count": 105,
     "metadata": {},
     "output_type": "execute_result"
    }
   ],
   "source": [
    "# Summary statistics\n",
    "df[['logFC_HL004_vs_Vehicle', 'PValue_HL004_vs_Vehicle', 'FDR_HL004_vs_Vehicle']].describe()"
   ]
  },
  {
   "cell_type": "code",
   "execution_count": 106,
   "metadata": {},
   "outputs": [
    {
     "data": {
      "image/png": "[encoded data removed]",
      "text/plain": [
       "<Figure size 640x480 with 1 Axes>"
      ]
     },
     "metadata": {},
     "output_type": "display_data"
    }
   ],
   "source": [
    "# Box plots of p-value and FDR columns\n",
    "plt.figure()\n",
    "plt.title(\"Box plots: P-Value and FDR\")\n",
    "sns.boxplot(data=df[['PValue_HL004_vs_Vehicle', 'FDR_HL004_vs_Vehicle']])\n",
    "plt.show()"
   ]
  },
  {
   "cell_type": "code",
   "execution_count": 107,
   "metadata": {},
   "outputs": [
    {
     "data": {
      "image/png": "[encoded data removed]",
      "text/plain": [
       "<Figure size 640x480 with 1 Axes>"
      ]
     },
     "metadata": {},
     "output_type": "display_data"
    }
   ],
   "source": [
    "# plot the distribution of the logFC_HL004_vs_Vehicle\n",
    "# difference between the drug treated vs non-drug treated log value (drug treated - control)\n",
    "# each count represens a gene ID\n",
    "plt.figure()\n",
    "sns.histplot(df['logFC_HL004_vs_Vehicle'], bins=50)\n",
    "plt.title('Distribution of the logFC_HL004_vs_Vehicle')\n",
    "plt.xlabel('logFC_HL004_vs_Vehicle')\n",
    "plt.ylabel('count')\n",
    "plt.show()"
   ]
  },
  {
   "cell_type": "code",
   "execution_count": 108,
   "metadata": {},
   "outputs": [],
   "source": [
    "# mean expression plot \n",
    "df['mean_expression'] = df[['logFC_HL004_vs_Vehicle']].mean(axis=1)\n",
    "plt.figure(figsize=(10, 6))\n",
    "plt.scatter(df['mean_expression'], df['logFC_HL004_vs_Vehicle'], alpha=0.5, c='blue')\n",
    "plt.axhline(0, color='red', linestyle='--')\n",
    "plt.xlabel('Mean Expression')\n",
    "plt.ylabel('Log Fold Change')\n",
    "plt.title('MA Plot: Gene Expression Analysis')\n",
    "plt.show()\n",
    "\n"
   ]
  },
  {
   "cell_type": "code",
   "execution_count": 109,
   "metadata": {},
   "outputs": [],
   "source": [
    "# log vs P value graph\n",
    "# x axis: biological significant log fold change\n",
    "# y axis: statistical significance with p-value\n",
    "plt.figure(figsize=(10, 6))\n",
    "df['-log10(PValue)'] = -np.log10(df['PValue_HL004_vs_Vehicle'])\n",
    "plt.scatter(df['logFC_HL004_vs_Vehicle'], df['-log10(PValue)'], s=5)\n",
    "\n",
    "# significant highlighted in red if logFC > 1 or < -1, and P-value < 0.05\n",
    "significant = df[(df['logFC_HL004_vs_Vehicle'].abs() > 1) & (df['PValue_HL004_vs_Vehicle'] < 0.05)]\n",
    "plt.scatter(significant['logFC_HL004_vs_Vehicle'], significant['-log10(PValue)'], color='red', s=5)\n",
    "\n",
    "plt.axhline(y=-np.log10(0.05), color='blue', linestyle='--', label='P = 0.05 threshold')\n",
    "plt.axvline(x=1, color='green', linestyle='--', label='logFC = 1')\n",
    "plt.axvline(x=-1, color='green', linestyle='--')\n",
    "\n",
    "plt.xlabel('logFC')\n",
    "plt.ylabel('-log10(P-value)')\n",
    "plt.title('Volcano Plot: Gene Expression Analysis')\n",
    "plt.legend()\n",
    "plt.show()"
   ]
  },
  {
   "cell_type": "code",
   "execution_count": 110,
   "metadata": {},
   "outputs": [],
   "source": [
    "# Count the number of rows where PValue_HL004_vs_Vehicle > 0.05 or < 0.05\n",
    "p_value_non_significant_count = df[df['PValue_HL004_vs_Vehicle'] > 0.05].shape[0]\n",
    "p_value_significant_count = df[df['PValue_HL004_vs_Vehicle'] < 0.05].shape[0]\n",
    "\n",
    "print(f\"Number of genes where PValue_HL004_vs_Vehicle > 0.05: {p_value_non_significant_count}\")\n",
    "print(f\"Number of genes where PValue_HL004_vs_Vehicle < 0.05: {p_value_significant_count}\")"
   ]
  },
  {
   "cell_type": "code",
   "execution_count": 111,
   "metadata": {},
   "outputs": [],
   "source": [
    "# Count the number of rows where FDR_HL004_vs_Vehicle > 0.05 or < 0.05\n",
    "FDR_non_significant_count = df[df['FDR_HL004_vs_Vehicle'] > 0.05].shape[0]\n",
    "FDR_significant_count = df[df['FDR_HL004_vs_Vehicle'] < 0.05].shape[0]\n",
    "\n",
    "print(f\"Number of genes where FDR_HL004_vs_Vehicle > 0.05: {FDR_non_significant_count}\")\n",
    "print(f\"Number of genes where FDR_HL004_vs_Vehicle < 0.05: {FDR_significant_count}\")"
   ]
  },
  {
   "cell_type": "code",
   "execution_count": 112,
   "metadata": {},
   "outputs": [],
   "source": [
    "# Analyze the correlation between diff numerical values\n",
    "correlation_matrix = df.corr()\n",
    "print(correlation_matrix)\n",
    "\n",
    "# Visualise the correlation matrix using heatmap\n",
    "plt.figure(figsize=(10,6))\n",
    "sns.heatmap(correlation_matrix, annot=True, cmap='coolwarm', fmt='.2f')\n",
    "plt.title('Correlation Heatmap')\n",
    "plt.show()"
   ]
  },
  {
   "cell_type": "code",
   "execution_count": null,
   "metadata": {},
   "outputs": [],
   "source": []
  }
 ],
 "metadata": {
  "kernelspec": {
   "display_name": "Python 3",
   "language": "python",
   "name": "python3"
  },
  "language_info": {
   "codemirror_mode": {
    "name": "ipython",
    "version": 3
   },
   "file_extension": ".py",
   "mimetype": "text/x-python",
   "name": "python",
   "nbconvert_exporter": "python",
   "pygments_lexer": "ipython3",
   "version": "3.12.4"
  }
 },
 "nbformat": 4,
 "nbformat_minor": 2
}
